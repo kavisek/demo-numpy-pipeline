{
 "cells": [
  {
   "cell_type": "code",
   "execution_count": 1,
   "metadata": {},
   "outputs": [
    {
     "name": "stderr",
     "output_type": "stream",
     "text": [
      "/Users/kavi/workspaces/personal/template-python-app/app/.venv/lib/python3.8/site-packages/pandas/compat/__init__.py:124: UserWarning: Could not import the lzma module. Your installed Python is incomplete. Attempting to use lzma compression will result in a RuntimeError.\n",
      "  warnings.warn(msg)\n"
     ]
    }
   ],
   "source": [
    "import coloredlogs\n",
    "import logging\n",
    "\n",
    "import numpy as np\n",
    "import pandas as pd\n",
    "\n",
    "coloredlogs.install()\n",
    "\n",
    "LOG_FILENAME = 'app.log'\n",
    "logging.basicConfig(\n",
    "    filename=LOG_FILENAME,\n",
    "    force=True,\n",
    "    level=logging.INFO,\n",
    "    format=\"[%(asctime)s] {%(pathname)s:%(lineno)d} %(levelname)s - %(message)s\",\n",
    ")\n",
    "\n",
    "log = logging.getLogger(__name__)"
   ]
  }
 ],
 "metadata": {
  "kernelspec": {
   "display_name": "Python 3.8.5 ('.venv': poetry)",
   "language": "python",
   "name": "python3"
  },
  "language_info": {
   "codemirror_mode": {
    "name": "ipython",
    "version": 3
   },
   "file_extension": ".py",
   "mimetype": "text/x-python",
   "name": "python",
   "nbconvert_exporter": "python",
   "pygments_lexer": "ipython3",
   "version": "3.8.5"
  },
  "orig_nbformat": 4,
  "vscode": {
   "interpreter": {
    "hash": "b7d20de60f01497648d39fe3a3a777f209e97deb024cc8d8c15aa2cc03ede291"
   }
  }
 },
 "nbformat": 4,
 "nbformat_minor": 2
}
