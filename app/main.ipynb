{
 "cells": [
  {
   "cell_type": "code",
   "execution_count": 1,
   "metadata": {},
   "outputs": [
    {
     "name": "stderr",
     "output_type": "stream",
     "text": [
      "/Users/kavi/workspaces/personal/demo-numpy-pipeline/app/.venv/lib/python3.8/site-packages/pandas/compat/__init__.py:124: UserWarning: Could not import the lzma module. Your installed Python is incomplete. Attempting to use lzma compression will result in a RuntimeError.\n",
      "  warnings.warn(msg)\n"
     ]
    },
    {
     "data": {
      "text/plain": [
       "array([['2020-08-11 06:00:00.000000000', 2.85, 3.47, ..., 6979.82,\n",
       "        21792.56835, 0],\n",
       "       ['2020-08-11 06:30:00.000000000', 3.136, 3.136, ..., 1545.93,\n",
       "        4635.802302, 0],\n",
       "       ['2020-08-11 07:00:00.000000000', 2.9515, 3.1355, ..., 4639.33,\n",
       "        14166.472847, 0],\n",
       "       ...,\n",
       "       ['2022-08-21 14:00:00.000000000', 35.77, 35.91, ..., 30010.16,\n",
       "        1073178.8099, 0],\n",
       "       ['2022-08-21 14:30:00.000000000', 35.82, 36.0, ..., 19040.96,\n",
       "        683746.3255, 0],\n",
       "       ['2022-08-21 15:00:00.000000000', 35.97, 36.02, ..., 4829.71,\n",
       "        173835.8925, 0]], dtype=object)"
      ]
     },
     "execution_count": 1,
     "metadata": {},
     "output_type": "execute_result"
    }
   ],
   "source": [
    "import coloredlogs\n",
    "import logging\n",
    "\n",
    "import numpy as np\n",
    "import pandas as pd\n",
    "\n",
    "from transformations.solana import SolanaJobs\n",
    "\n",
    "coloredlogs.install()\n",
    "\n",
    "logging.basicConfig(\n",
    "    level=logging.INFO,\n",
    "    format=\"[%(asctime)s] {%(pathname)s:%(lineno)d} %(levelname)s - %(message)s\",\n",
    ")\n",
    "\n",
    "log = logging.getLogger(__name__)\n",
    "\n",
    "jobs = SolanaJobs()\n",
    "jobs.solana_dataframe()\n",
    "jobs.dataframe_to_numpy_array()"
   ]
  }
 ],
 "metadata": {
  "kernelspec": {
   "display_name": "Python 3.8.5 ('.venv': poetry)",
   "language": "python",
   "name": "python3"
  },
  "language_info": {
   "codemirror_mode": {
    "name": "ipython",
    "version": 3
   },
   "file_extension": ".py",
   "mimetype": "text/x-python",
   "name": "python",
   "nbconvert_exporter": "python",
   "pygments_lexer": "ipython3",
   "version": "3.8.5"
  },
  "orig_nbformat": 4,
  "vscode": {
   "interpreter": {
    "hash": "53abcaa5c3a5c04b410542e16eaedf418c0d8906970771e34e21c2b40474a5a2"
   }
  }
 },
 "nbformat": 4,
 "nbformat_minor": 2
}
